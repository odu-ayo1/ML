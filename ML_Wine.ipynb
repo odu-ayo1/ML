{
  "nbformat": 4,
  "nbformat_minor": 0,
  "metadata": {
    "colab": {
      "provenance": [],
      "mount_file_id": "1Po1c7HpidZtrC07HNSRBJ3yAGcewbYtZ",
      "authorship_tag": "ABX9TyPdagBLW5TpxMbft5vR5bIz",
      "include_colab_link": true
    },
    "kernelspec": {
      "name": "python3",
      "display_name": "Python 3"
    },
    "language_info": {
      "name": "python"
    }
  },
  "cells": [
    {
      "cell_type": "markdown",
      "metadata": {
        "id": "view-in-github",
        "colab_type": "text"
      },
      "source": [
        "<a href=\"https://colab.research.google.com/github/odu-ayo1/ML/blob/main/ML_Wine.ipynb\" target=\"_parent\"><img src=\"https://colab.research.google.com/assets/colab-badge.svg\" alt=\"Open In Colab\"/></a>"
      ]
    },
    {
      "cell_type": "markdown",
      "source": [
        "**Step 1: Import necessary libraries**"
      ],
      "metadata": {
        "id": "NIlJwfJBu3wH"
      }
    },
    {
      "cell_type": "code",
      "execution_count": null,
      "metadata": {
        "id": "03mw97iQtIPI"
      },
      "outputs": [],
      "source": [
        "import pandas as pd\n",
        "import matplotlib.pyplot as plt\n",
        "from sklearn.model_selection import train_test_split\n",
        "from sklearn.linear_model import LinearRegression, Ridge\n",
        "from sklearn.metrics import mean_squared_error\n"
      ]
    },
    {
      "cell_type": "markdown",
      "source": [
        "**Step 2: Load the dataset**"
      ],
      "metadata": {
        "id": "KD5_S9cBwguY"
      }
    },
    {
      "cell_type": "code",
      "source": [
        "# Load the data\n",
        "data_train = pd.read_csv('/content/drive/MyDrive/wine/wine_train.csv')\n",
        "data_test = pd.read_csv('/content/drive/MyDrive/wine/wine_test.csv')\n"
      ],
      "metadata": {
        "id": "aCm38KMfvTXW"
      },
      "execution_count": null,
      "outputs": []
    },
    {
      "cell_type": "markdown",
      "source": [
        "**Step 3: Explore the data**"
      ],
      "metadata": {
        "id": "6oMA3KmAxUNT"
      }
    },
    {
      "cell_type": "code",
      "source": [
        "# Basic data exploration\n",
        "print(data_train.head())\n",
        "print(data_train.info())\n",
        "print(data_train.describe())\n",
        "\n",
        "# Visualize the distribution of the target variable\n",
        "plt.hist(data_train['quality'], bins=10)\n",
        "plt.xlabel('Quality')\n",
        "plt.ylabel('Frequency')\n",
        "plt.title('Distribution of Wine Quality')\n",
        "plt.show()\n"
      ],
      "metadata": {
        "colab": {
          "base_uri": "https://localhost:8080/",
          "height": 1000
        },
        "id": "ZhByYFGkxVly",
        "outputId": "b3deb013-7df8-46be-e086-c0e029af2a51"
      },
      "execution_count": null,
      "outputs": [
        {
          "output_type": "stream",
          "name": "stdout",
          "text": [
            "   fixed acidity  volatile acidity  citric acid  residual sugar  chlorides  \\\n",
            "0            6.8              0.18         0.28             8.5      0.047   \n",
            "1            7.8              0.20         0.20             1.4      0.036   \n",
            "2            5.8              0.24         0.28             1.4      0.038   \n",
            "3            6.8              0.18         0.30            12.8      0.062   \n",
            "4            6.7              0.31         0.42             6.4      0.057   \n",
            "\n",
            "   free sulfur dioxide  total sulfur dioxide  density    pH  sulphates  \\\n",
            "0                 52.0                 242.0  0.99520  3.22       0.53   \n",
            "1                 25.0                  83.0  0.99088  3.03       0.46   \n",
            "2                 40.0                  76.0  0.98711  3.10       0.29   \n",
            "3                 19.0                 171.0  0.99808  3.00       0.52   \n",
            "4                 25.0                 148.0  0.99550  3.16       0.45   \n",
            "\n",
            "   alcohol   type  quality  \n",
            "0     10.5  white        6  \n",
            "1     11.7  white        6  \n",
            "2     13.9  white        7  \n",
            "3      9.0  white        7  \n",
            "4      9.6  white        5  \n",
            "<class 'pandas.core.frame.DataFrame'>\n",
            "RangeIndex: 4547 entries, 0 to 4546\n",
            "Data columns (total 13 columns):\n",
            " #   Column                Non-Null Count  Dtype  \n",
            "---  ------                --------------  -----  \n",
            " 0   fixed acidity         4547 non-null   float64\n",
            " 1   volatile acidity      4547 non-null   float64\n",
            " 2   citric acid           4547 non-null   float64\n",
            " 3   residual sugar        4547 non-null   float64\n",
            " 4   chlorides             4547 non-null   float64\n",
            " 5   free sulfur dioxide   4547 non-null   float64\n",
            " 6   total sulfur dioxide  4547 non-null   float64\n",
            " 7   density               4547 non-null   float64\n",
            " 8   pH                    4547 non-null   float64\n",
            " 9   sulphates             4547 non-null   float64\n",
            " 10  alcohol               4547 non-null   float64\n",
            " 11  type                  4547 non-null   object \n",
            " 12  quality               4547 non-null   int64  \n",
            "dtypes: float64(11), int64(1), object(1)\n",
            "memory usage: 461.9+ KB\n",
            "None\n",
            "       fixed acidity  volatile acidity  citric acid  residual sugar  \\\n",
            "count    4547.000000       4547.000000  4547.000000     4547.000000   \n",
            "mean        7.224709          0.338717     0.320658        5.408247   \n",
            "std         1.280764          0.163757     0.145906        4.786129   \n",
            "min         4.200000          0.080000     0.000000        0.600000   \n",
            "25%         6.400000          0.230000     0.250000        1.800000   \n",
            "50%         7.000000          0.290000     0.310000        2.900000   \n",
            "75%         7.700000          0.400000     0.390000        8.000000   \n",
            "max        15.900000          1.580000     1.660000       65.800000   \n",
            "\n",
            "         chlorides  free sulfur dioxide  total sulfur dioxide      density  \\\n",
            "count  4547.000000          4547.000000           4547.000000  4547.000000   \n",
            "mean      0.055603            30.422916            115.718276     0.994682   \n",
            "std       0.034542            17.747184             56.565059     0.003027   \n",
            "min       0.012000             1.000000              6.000000     0.987110   \n",
            "25%       0.038000            17.000000             77.250000     0.992300   \n",
            "50%       0.047000            29.000000            118.000000     0.994800   \n",
            "75%       0.065000            41.000000            155.000000     0.997000   \n",
            "max       0.611000           289.000000            440.000000     1.038980   \n",
            "\n",
            "                pH    sulphates      alcohol      quality  \n",
            "count  4547.000000  4547.000000  4547.000000  4547.000000  \n",
            "mean      3.217277     0.531172    10.493832     5.817022  \n",
            "std       0.160377     0.149151     1.193236     0.879918  \n",
            "min       2.720000     0.230000     8.000000     3.000000  \n",
            "25%       3.110000     0.430000     9.500000     5.000000  \n",
            "50%       3.210000     0.510000    10.300000     6.000000  \n",
            "75%       3.320000     0.600000    11.300000     6.000000  \n",
            "max       4.010000     2.000000    14.900000     9.000000  \n"
          ]
        },
        {
          "output_type": "display_data",
          "data": {
            "text/plain": [
              "<Figure size 640x480 with 1 Axes>"
            ],
            "image/png": "[encoded data removed]"
          },
          "metadata": {}
        }
      ]
    },
    {
      "cell_type": "markdown",
      "source": [
        "**Step 4: Preprocess the data**"
      ],
      "metadata": {
        "id": "lUC6c6fzxnGK"
      }
    },
    {
      "cell_type": "code",
      "source": [
        "# Convert 'type' to numeric (0 for red, 1 for white)\n",
        "data_train['type'] = data_train['type'].map({'red': 0, 'white': 1})\n",
        "data_test['type'] = data_test['type'].map({'red': 0, 'white': 1})\n",
        "\n",
        "# Check for missing values\n",
        "print(data_train.isnull().sum())\n",
        "print(data_test.isnull().sum())\n"
      ],
      "metadata": {
        "colab": {
          "base_uri": "https://localhost:8080/"
        },
        "id": "YFNcj3W-xrQn",
        "outputId": "d6716375-0557-4247-9200-2a651155c370"
      },
      "execution_count": null,
      "outputs": [
        {
          "output_type": "stream",
          "name": "stdout",
          "text": [
            "fixed acidity           0\n",
            "volatile acidity        0\n",
            "citric acid             0\n",
            "residual sugar          0\n",
            "chlorides               0\n",
            "free sulfur dioxide     0\n",
            "total sulfur dioxide    0\n",
            "density                 0\n",
            "pH                      0\n",
            "sulphates               0\n",
            "alcohol                 0\n",
            "type                    0\n",
            "quality                 0\n",
            "dtype: int64\n",
            "fixed acidity           0\n",
            "volatile acidity        0\n",
            "citric acid             0\n",
            "residual sugar          0\n",
            "chlorides               0\n",
            "free sulfur dioxide     0\n",
            "total sulfur dioxide    0\n",
            "density                 0\n",
            "pH                      0\n",
            "sulphates               0\n",
            "alcohol                 0\n",
            "type                    0\n",
            "quality                 0\n",
            "dtype: int64\n"
          ]
        }
      ]
    },
    {
      "cell_type": "markdown",
      "source": [
        "**Step 5: Split the data into features and target variables**"
      ],
      "metadata": {
        "id": "z5m_fCJcx00U"
      }
    },
    {
      "cell_type": "code",
      "source": [
        "# Features and target variable\n",
        "X_train = data_train.drop('quality', axis=1)\n",
        "y_train = data_train['quality']\n",
        "X_test = data_test.drop('quality', axis=1)\n",
        "y_test = data_test['quality']\n"
      ],
      "metadata": {
        "id": "0AHAhFS3x2RR"
      },
      "execution_count": null,
      "outputs": []
    },
    {
      "cell_type": "markdown",
      "source": [
        "**Step 6: Train a machine learning model**"
      ],
      "metadata": {
        "id": "SSZ2Iz9wx7o3"
      }
    },
    {
      "cell_type": "code",
      "source": [
        "# Train a Linear Regression model\n",
        "linear_model = LinearRegression()\n",
        "linear_model.fit(X_train, y_train)\n",
        "\n",
        "# Train a Ridge Regression model\n",
        "ridge_model = Ridge()\n",
        "ridge_model.fit(X_train, y_train)\n"
      ],
      "metadata": {
        "colab": {
          "base_uri": "https://localhost:8080/",
          "height": 75
        },
        "id": "Rbkhp9dGx8-8",
        "outputId": "bd77c0af-330d-4522-abac-056c88b3d172"
      },
      "execution_count": null,
      "outputs": [
        {
          "output_type": "execute_result",
          "data": {
            "text/plain": [
              "Ridge()"
            ],
            "text/html": [
              "<style>#sk-container-id-1 {color: black;background-color: white;}#sk-container-id-1 pre{padding: 0;}#sk-container-id-1 div.sk-toggleable {background-color: white;}#sk-container-id-1 label.sk-toggleable__label {cursor: pointer;display: block;width: 100%;margin-bottom: 0;padding: 0.3em;box-sizing: border-box;text-align: center;}#sk-container-id-1 label.sk-toggleable__label-arrow:before {content: \"▸\";float: left;margin-right: 0.25em;color: #696969;}#sk-container-id-1 label.sk-toggleable__label-arrow:hover:before {color: black;}#sk-container-id-1 div.sk-estimator:hover label.sk-toggleable__label-arrow:before {color: black;}#sk-container-id-1 div.sk-toggleable__content {max-height: 0;max-width: 0;overflow: hidden;text-align: left;background-color: #f0f8ff;}#sk-container-id-1 div.sk-toggleable__content pre {margin: 0.2em;color: black;border-radius: 0.25em;background-color: #f0f8ff;}#sk-container-id-1 input.sk-toggleable__control:checked~div.sk-toggleable__content {max-height: 200px;max-width: 100%;overflow: auto;}#sk-container-id-1 input.sk-toggleable__control:checked~label.sk-toggleable__label-arrow:before {content: \"▾\";}#sk-container-id-1 div.sk-estimator input.sk-toggleable__control:checked~label.sk-toggleable__label {background-color: #d4ebff;}#sk-container-id-1 div.sk-label input.sk-toggleable__control:checked~label.sk-toggleable__label {background-color: #d4ebff;}#sk-container-id-1 input.sk-hidden--visually {border: 0;clip: rect(1px 1px 1px 1px);clip: rect(1px, 1px, 1px, 1px);height: 1px;margin: -1px;overflow: hidden;padding: 0;position: absolute;width: 1px;}#sk-container-id-1 div.sk-estimator {font-family: monospace;background-color: #f0f8ff;border: 1px dotted black;border-radius: 0.25em;box-sizing: border-box;margin-bottom: 0.5em;}#sk-container-id-1 div.sk-estimator:hover {background-color: #d4ebff;}#sk-container-id-1 div.sk-parallel-item::after {content: \"\";width: 100%;border-bottom: 1px solid gray;flex-grow: 1;}#sk-container-id-1 div.sk-label:hover label.sk-toggleable__label {background-color: #d4ebff;}#sk-container-id-1 div.sk-serial::before {content: \"\";position: absolute;border-left: 1px solid gray;box-sizing: border-box;top: 0;bottom: 0;left: 50%;z-index: 0;}#sk-container-id-1 div.sk-serial {display: flex;flex-direction: column;align-items: center;background-color: white;padding-right: 0.2em;padding-left: 0.2em;position: relative;}#sk-container-id-1 div.sk-item {position: relative;z-index: 1;}#sk-container-id-1 div.sk-parallel {display: flex;align-items: stretch;justify-content: center;background-color: white;position: relative;}#sk-container-id-1 div.sk-item::before, #sk-container-id-1 div.sk-parallel-item::before {content: \"\";position: absolute;border-left: 1px solid gray;box-sizing: border-box;top: 0;bottom: 0;left: 50%;z-index: -1;}#sk-container-id-1 div.sk-parallel-item {display: flex;flex-direction: column;z-index: 1;position: relative;background-color: white;}#sk-container-id-1 div.sk-parallel-item:first-child::after {align-self: flex-end;width: 50%;}#sk-container-id-1 div.sk-parallel-item:last-child::after {align-self: flex-start;width: 50%;}#sk-container-id-1 div.sk-parallel-item:only-child::after {width: 0;}#sk-container-id-1 div.sk-dashed-wrapped {border: 1px dashed gray;margin: 0 0.4em 0.5em 0.4em;box-sizing: border-box;padding-bottom: 0.4em;background-color: white;}#sk-container-id-1 div.sk-label label {font-family: monospace;font-weight: bold;display: inline-block;line-height: 1.2em;}#sk-container-id-1 div.sk-label-container {text-align: center;}#sk-container-id-1 div.sk-container {/* jupyter's `normalize.less` sets `[hidden] { display: none; }` but bootstrap.min.css set `[hidden] { display: none !important; }` so we also need the `!important` here to be able to override the default hidden behavior on the sphinx rendered scikit-learn.org. See: https://github.com/scikit-learn/scikit-learn/issues/21755 */display: inline-block !important;position: relative;}#sk-container-id-1 div.sk-text-repr-fallback {display: none;}</style><div id=\"sk-container-id-1\" class=\"sk-top-container\"><div class=\"sk-text-repr-fallback\"><pre>Ridge()</pre><b>In a Jupyter environment, please rerun this cell to show the HTML representation or trust the notebook. <br />On GitHub, the HTML representation is unable to render, please try loading this page with nbviewer.org.</b></div><div class=\"sk-container\" hidden><div class=\"sk-item\"><div class=\"sk-estimator sk-toggleable\"><input class=\"sk-toggleable__control sk-hidden--visually\" id=\"sk-estimator-id-1\" type=\"checkbox\" checked><label for=\"sk-estimator-id-1\" class=\"sk-toggleable__label sk-toggleable__label-arrow\">Ridge</label><div class=\"sk-toggleable__content\"><pre>Ridge()</pre></div></div></div></div></div>"
            ]
          },
          "metadata": {},
          "execution_count": 6
        }
      ]
    },
    {
      "cell_type": "markdown",
      "source": [
        "**Step 7: Evaluate the model**"
      ],
      "metadata": {
        "id": "Jjwl2g2FyKI_"
      }
    },
    {
      "cell_type": "code",
      "source": [
        "# Predict and evaluate Linear Regression model\n",
        "y_pred_linear = linear_model.predict(X_test)\n",
        "mse_linear = mean_squared_error(y_test, y_pred_linear)\n",
        "print(f'Linear Regression Mean Squared Error: {mse_linear}')\n",
        "\n",
        "# Predict and evaluate Ridge Regression model\n",
        "y_pred_ridge = ridge_model.predict(X_test)\n",
        "mse_ridge = mean_squared_error(y_test, y_pred_ridge)\n",
        "print(f'Ridge Regression Mean Squared Error: {mse_ridge}')\n"
      ],
      "metadata": {
        "colab": {
          "base_uri": "https://localhost:8080/"
        },
        "id": "pKowqHEMyLZu",
        "outputId": "c4734df2-a8b8-4c33-ae73-857107727406"
      },
      "execution_count": null,
      "outputs": [
        {
          "output_type": "stream",
          "name": "stdout",
          "text": [
            "Linear Regression Mean Squared Error: 0.510219541660556\n",
            "Ridge Regression Mean Squared Error: 0.5152025641956318\n"
          ]
        }
      ]
    }
  ]
}