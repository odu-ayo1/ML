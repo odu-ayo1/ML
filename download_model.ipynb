{
  "nbformat": 4,
  "nbformat_minor": 0,
  "metadata": {
    "colab": {
      "provenance": [],
      "authorship_tag": "ABX9TyOXjP97DTo5wlK3s6R9GR0+",
      "include_colab_link": true
    },
    "kernelspec": {
      "name": "python3",
      "display_name": "Python 3"
    },
    "language_info": {
      "name": "python"
    }
  },
  "cells": [
    {
      "cell_type": "markdown",
      "metadata": {
        "id": "view-in-github",
        "colab_type": "text"
      },
      "source": [
        "<a href=\"https://colab.research.google.com/github/odu-ayo1/ML/blob/main/download_model.ipynb\" target=\"_parent\"><img src=\"https://colab.research.google.com/assets/colab-badge.svg\" alt=\"Open In Colab\"/></a>"
      ]
    },
    {
      "cell_type": "code",
      "execution_count": null,
      "metadata": {
        "id": "gHYscCZJ7xFf"
      },
      "outputs": [],
      "source": [
        "import requests\n",
        "\n",
        "# URL of the model download endpoint\n",
        "url = 'http://localhost:5000/download_model'\n",
        "\n",
        "# Send GET request to download the model file\n",
        "response = requests.get(url)\n",
        "\n",
        "# Save the content to a file\n",
        "with open('downloaded_ridge_model.pkl', 'wb') as f:\n",
        "    f.write(response.content)\n",
        "\n",
        "print(\"Model downloaded and saved as downloaded_ridge_model.pkl\")\n"
      ]
    },
    {
      "cell_type": "code",
      "source": [],
      "metadata": {
        "id": "4QhfyfK_8abn"
      },
      "execution_count": null,
      "outputs": []
    }
  ]
}