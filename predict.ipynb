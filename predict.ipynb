{
  "nbformat": 4,
  "nbformat_minor": 0,
  "metadata": {
    "colab": {
      "provenance": [],
      "mount_file_id": "1Ex0VpbPzAY46MMl2b-koy8kWbSZW0U-B",
      "authorship_tag": "ABX9TyOux6YreU/5ZZPkwHTKPuM5",
      "include_colab_link": true
    },
    "kernelspec": {
      "name": "python3",
      "display_name": "Python 3"
    },
    "language_info": {
      "name": "python"
    }
  },
  "cells": [
    {
      "cell_type": "markdown",
      "metadata": {
        "id": "view-in-github",
        "colab_type": "text"
      },
      "source": [
        "<a href=\"https://colab.research.google.com/github/odu-ayo1/ML/blob/main/predict.ipynb\" target=\"_parent\"><img src=\"https://colab.research.google.com/assets/colab-badge.svg\" alt=\"Open In Colab\"/></a>"
      ]
    },
    {
      "cell_type": "code",
      "execution_count": null,
      "metadata": {
        "colab": {
          "base_uri": "https://localhost:8080/"
        },
        "id": "Qa9K1Hxu7JXz",
        "outputId": "03b798d1-6a0e-43ce-cac8-357083e71009"
      },
      "outputs": [
        {
          "output_type": "stream",
          "name": "stdout",
          "text": [
            "Requirement already satisfied: requests in /usr/local/lib/python3.10/dist-packages (2.31.0)\n",
            "Requirement already satisfied: charset-normalizer<4,>=2 in /usr/local/lib/python3.10/dist-packages (from requests) (3.3.2)\n",
            "Requirement already satisfied: idna<4,>=2.5 in /usr/local/lib/python3.10/dist-packages (from requests) (3.7)\n",
            "Requirement already satisfied: urllib3<3,>=1.21.1 in /usr/local/lib/python3.10/dist-packages (from requests) (2.0.7)\n",
            "Requirement already satisfied: certifi>=2017.4.17 in /usr/local/lib/python3.10/dist-packages (from requests) (2024.2.2)\n"
          ]
        }
      ],
      "source": [
        "pip install requests\n"
      ]
    },
    {
      "cell_type": "code",
      "source": [],
      "metadata": {
        "id": "gmu0_IbV9Iqk"
      },
      "execution_count": null,
      "outputs": []
    },
    {
      "cell_type": "markdown",
      "source": [
        "# Sending a POST Request to the Prediction Endpoint"
      ],
      "metadata": {
        "id": "RTHgceiF7RQ7"
      }
    },
    {
      "cell_type": "code",
      "source": [
        "import requests\n",
        "import json\n",
        "\n",
        "# URL of the prediction endpoint\n",
        "url = 'http://localhost:5000/predict'\n",
        "\n",
        "# Example data to send for prediction\n",
        "data = [\n",
        "    {\"fixed acidity\": 7.4, \"volatile acidity\": 0.7, \"citric acid\": 0, \"residual sugar\": 1.9, \"chlorides\": 0.076, \"free sulfur dioxide\": 11, \"total sulfur dioxide\": 34, \"density\": 0.9978, \"pH\": 3.51, \"sulphates\": 0.56, \"alcohol\": 9.4, \"type\": 0}\n",
        "]\n",
        "\n",
        "# Convert the data to JSON format\n",
        "json_data = json.dumps(data)\n",
        "\n",
        "# Send POST request to the prediction endpoint\n",
        "response = requests.post(url, headers={\"Content-Type\": \"application/json\"}, data=json_data)\n",
        "\n",
        "# Print the response from the server\n",
        "print(response.json())\n"
      ],
      "metadata": {
        "id": "obg6sSIR7UDK"
      },
      "execution_count": null,
      "outputs": []
    }
  ]
}